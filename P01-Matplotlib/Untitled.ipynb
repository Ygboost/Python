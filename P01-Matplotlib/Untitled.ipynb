{
 "cells": [
  {
   "cell_type": "code",
   "execution_count": null,
   "metadata": {
    "collapsed": true
   },
   "outputs": [],
   "source": [
    "import pandas as pd\n",
    "import numpy as np\n",
    "import matplotlib.pyplot as plt\n",
    "%matplotlib inline"
   ]
  },
  {
   "cell_type": "markdown",
   "metadata": {},
   "source": [
    "matplotlib里面有几个比较重要的概念，分别是：\n",
    "- Figure\n",
    "- Axes\n",
    "- Atist  \n",
    "  \n",
    "Figure可以简单的理解为画布，主要是设置整个图外框的大小，分辨率，长宽比。  \n",
    "Axes按照列表的格式保存在Figure上，可以理解为Figure上面的子图，通常只有1个的时候，Axes会布满整个Figure  \n",
    "Atist按照列表的格式保存在Axes[i]上，可以理解为子图里面的图案，包括折线图，曲线图等等。   "
   ]
  },
  {
   "cell_type": "code",
   "execution_count": null,
   "metadata": {
    "collapsed": true
   },
   "outputs": [],
   "source": []
  }
 ],
 "metadata": {
  "celltoolbar": "Raw Cell Format",
  "kernelspec": {
   "display_name": "Python 3",
   "language": "python",
   "name": "python3"
  },
  "language_info": {
   "codemirror_mode": {
    "name": "ipython",
    "version": 3
   },
   "file_extension": ".py",
   "mimetype": "text/x-python",
   "name": "python",
   "nbconvert_exporter": "python",
   "pygments_lexer": "ipython3",
   "version": "3.6.1"
  }
 },
 "nbformat": 4,
 "nbformat_minor": 2
}
